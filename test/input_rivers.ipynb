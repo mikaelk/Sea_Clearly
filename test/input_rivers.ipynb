{
 "cells": [
  {
   "cell_type": "code",
   "execution_count": 6,
   "id": "215942c1-6aa8-4c3f-8359-195b1a73e0f1",
   "metadata": {},
   "outputs": [],
   "source": [
    "import xarray as xr\n",
    "import numpy as np\n",
    "import matplotlib.pyplot as plt\n",
    "import os,sys\n",
    "from glob import glob\n",
    "from scipy.interpolate import griddata\n",
    "import cartopy.crs as ccrs\n",
    "import cartopy.io.shapereader as shpreader\n",
    "import shapely\n",
    "import pandas as pd \n",
    "\n",
    "module_path = os.path.abspath(os.path.join('..'))\n",
    "if module_path not in sys.path:\n",
    "    sys.path.append(module_path)\n",
    "    \n",
    "from sea_clearly.create_masks import get_coastal_nodes"
   ]
  },
  {
   "cell_type": "code",
   "execution_count": 33,
   "id": "0dd42e17-6ae9-4f36-9113-4379c6a3c7f0",
   "metadata": {},
   "outputs": [
    {
     "name": "stdout",
     "output_type": "stream",
     "text": [
      "0/1589\n",
      "100/1589\n",
      "200/1589\n",
      "300/1589\n",
      "400/1589\n",
      "500/1589\n",
      "600/1589\n",
      "700/1589\n",
      "800/1589\n",
      "900/1589\n",
      "1000/1589\n",
      "1100/1589\n",
      "1200/1589\n",
      "1300/1589\n",
      "1400/1589\n",
      "1500/1589\n"
     ]
    }
   ],
   "source": [
    "def find_closest_coast(lon, lat):\n",
    "   \n",
    "    distance = np.sqrt( ( (lon_coast - lon)*np.cos(lat * (np.pi/180)))**2 + (lat_coast- lat)**2 )\n",
    "\n",
    "    return indices_lon[mask_coast][np.argmin(distance)], indices_lat[mask_coast][np.argmin(distance)]\n",
    "\n",
    "\n",
    "\n",
    "data_mask_land = xr.open_dataset('../data/CMEMS_MED_landmask.nc')\n",
    "\n",
    "mask_land = data_mask_land['mask_land'].values\n",
    "lons = data_mask_land['lon'].values\n",
    "lats = data_mask_land['lat'].values\n",
    "fieldMesh_x,fieldMesh_y = np.meshgrid(lons,lats)\n",
    "\n",
    "mask_coast = get_coastal_nodes(mask_land).astype(bool)\n",
    "\n",
    "data_rivers = pd.read_csv('../data/Meijer_rivers.csv')\n",
    "mask = (data_rivers['lon'] > lons.min()) & (data_rivers['lon'] < lons.max()) & (data_rivers['lat'] > lats.min()) & (data_rivers['lat'] < lats.max())\n",
    "\n",
    "data_rivers = data_rivers.loc[mask]\n",
    "lon_river = data_rivers['lon'].values\n",
    "lat_river = data_rivers['lat'].values\n",
    "output_river = data_rivers['output [tonnes/year]']\n",
    "\n",
    "input_matrix_rivers = np.zeros(mask_coast.shape)\n",
    "\n",
    "lon_coast = fieldMesh_x[mask_coast]\n",
    "lat_coast = fieldMesh_y[mask_coast]\n",
    "indices_lon,indices_lat = np.meshgrid(np.arange(len(lons)),np.arange(len(lats)))\n",
    "\n",
    "for i1, (lon_,lat_,output_) in enumerate(zip(lon_river,lat_river,output_river)):\n",
    "    \n",
    "    i_lon, i_lat = find_closest_coast(lon_,lat_)    \n",
    "    \n",
    "    input_matrix_rivers[i_lat,i_lon] += output_\n",
    "    \n",
    "    if i1 % 100 == 0:\n",
    "        print('%i/%i' % (i1,len(lon_river)))\n",
    "        "
   ]
  },
  {
   "cell_type": "code",
   "execution_count": null,
   "id": "e1a39241-b8b5-45b2-be54-df2d20b5e515",
   "metadata": {},
   "outputs": [],
   "source": []
  },
  {
   "cell_type": "code",
   "execution_count": null,
   "id": "c95827e0-458a-4d7b-a9ce-583ee8b5beb1",
   "metadata": {},
   "outputs": [],
   "source": []
  },
  {
   "cell_type": "code",
   "execution_count": 34,
   "id": "0d7581f8-3da0-4de6-b71e-e10b7d7070b2",
   "metadata": {},
   "outputs": [
    {
     "name": "stderr",
     "output_type": "stream",
     "text": [
      "/tmp/ipykernel_3575519/3537167536.py:4: RuntimeWarning: divide by zero encountered in log10\n",
      "  plt.pcolormesh(np.log10(input_matrix_rivers))\n"
     ]
    },
    {
     "data": {
      "text/plain": [
       "<matplotlib.collections.QuadMesh at 0x7f942de895e0>"
      ]
     },
     "execution_count": 34,
     "metadata": {},
     "output_type": "execute_result"
    },
    {
     "data": {
      "image/png": "[encoded data removed]",
      "text/plain": [
       "<Figure size 432x288 with 1 Axes>"
      ]
     },
     "metadata": {
      "needs_background": "light"
     },
     "output_type": "display_data"
    },
    {
     "data": {
      "image/png": "[encoded data removed]",
      "text/plain": [
       "<Figure size 432x288 with 1 Axes>"
      ]
     },
     "metadata": {
      "needs_background": "light"
     },
     "output_type": "display_data"
    }
   ],
   "source": [
    "plt.pcolormesh(mask_coast)\n",
    "\n",
    "plt.figure()\n",
    "plt.pcolormesh(np.log10(input_matrix_rivers))"
   ]
  },
  {
   "cell_type": "code",
   "execution_count": 11,
   "id": "56324ec8-db35-4609-a59e-eb79f1575e22",
   "metadata": {},
   "outputs": [
    {
     "data": {
      "text/html": [
       "<div>\n",
       "<style scoped>\n",
       "    .dataframe tbody tr th:only-of-type {\n",
       "        vertical-align: middle;\n",
       "    }\n",
       "\n",
       "    .dataframe tbody tr th {\n",
       "        vertical-align: top;\n",
       "    }\n",
       "\n",
       "    .dataframe thead th {\n",
       "        text-align: right;\n",
       "    }\n",
       "</style>\n",
       "<table border=\"1\" class=\"dataframe\">\n",
       "  <thead>\n",
       "    <tr style=\"text-align: right;\">\n",
       "      <th></th>\n",
       "      <th>Unnamed: 0</th>\n",
       "      <th>lon</th>\n",
       "      <th>lat</th>\n",
       "      <th>output [tonnes/year]</th>\n",
       "    </tr>\n",
       "  </thead>\n",
       "  <tbody>\n",
       "    <tr>\n",
       "      <th>0</th>\n",
       "      <td>0</td>\n",
       "      <td>168.797917</td>\n",
       "      <td>-46.580833</td>\n",
       "      <td>0.164904</td>\n",
       "    </tr>\n",
       "    <tr>\n",
       "      <th>1</th>\n",
       "      <td>1</td>\n",
       "      <td>168.348750</td>\n",
       "      <td>-46.447083</td>\n",
       "      <td>0.124932</td>\n",
       "    </tr>\n",
       "    <tr>\n",
       "      <th>2</th>\n",
       "      <td>2</td>\n",
       "      <td>168.337083</td>\n",
       "      <td>-46.418750</td>\n",
       "      <td>1.213370</td>\n",
       "    </tr>\n",
       "    <tr>\n",
       "      <th>3</th>\n",
       "      <td>3</td>\n",
       "      <td>168.021250</td>\n",
       "      <td>-46.357917</td>\n",
       "      <td>0.121138</td>\n",
       "    </tr>\n",
       "    <tr>\n",
       "      <th>4</th>\n",
       "      <td>4</td>\n",
       "      <td>169.811250</td>\n",
       "      <td>-46.343750</td>\n",
       "      <td>0.197533</td>\n",
       "    </tr>\n",
       "    <tr>\n",
       "      <th>...</th>\n",
       "      <td>...</td>\n",
       "      <td>...</td>\n",
       "      <td>...</td>\n",
       "      <td>...</td>\n",
       "    </tr>\n",
       "    <tr>\n",
       "      <th>31814</th>\n",
       "      <td>31814</td>\n",
       "      <td>158.641250</td>\n",
       "      <td>53.026250</td>\n",
       "      <td>3.937440</td>\n",
       "    </tr>\n",
       "    <tr>\n",
       "      <th>31815</th>\n",
       "      <td>31815</td>\n",
       "      <td>158.488750</td>\n",
       "      <td>53.029583</td>\n",
       "      <td>3.821710</td>\n",
       "    </tr>\n",
       "    <tr>\n",
       "      <th>31816</th>\n",
       "      <td>31816</td>\n",
       "      <td>158.612917</td>\n",
       "      <td>53.051250</td>\n",
       "      <td>9.836130</td>\n",
       "    </tr>\n",
       "    <tr>\n",
       "      <th>31817</th>\n",
       "      <td>31817</td>\n",
       "      <td>158.532083</td>\n",
       "      <td>53.067917</td>\n",
       "      <td>1.693040</td>\n",
       "    </tr>\n",
       "    <tr>\n",
       "      <th>31818</th>\n",
       "      <td>31818</td>\n",
       "      <td>142.961250</td>\n",
       "      <td>53.572917</td>\n",
       "      <td>1.886280</td>\n",
       "    </tr>\n",
       "  </tbody>\n",
       "</table>\n",
       "<p>31819 rows × 4 columns</p>\n",
       "</div>"
      ],
      "text/plain": [
       "       Unnamed: 0         lon        lat  output [tonnes/year]\n",
       "0               0  168.797917 -46.580833              0.164904\n",
       "1               1  168.348750 -46.447083              0.124932\n",
       "2               2  168.337083 -46.418750              1.213370\n",
       "3               3  168.021250 -46.357917              0.121138\n",
       "4               4  169.811250 -46.343750              0.197533\n",
       "...           ...         ...        ...                   ...\n",
       "31814       31814  158.641250  53.026250              3.937440\n",
       "31815       31815  158.488750  53.029583              3.821710\n",
       "31816       31816  158.612917  53.051250              9.836130\n",
       "31817       31817  158.532083  53.067917              1.693040\n",
       "31818       31818  142.961250  53.572917              1.886280\n",
       "\n",
       "[31819 rows x 4 columns]"
      ]
     },
     "execution_count": 11,
     "metadata": {},
     "output_type": "execute_result"
    }
   ],
   "source": [
    "data_rivers"
   ]
  },
  {
   "cell_type": "code",
   "execution_count": 37,
   "id": "554831da-d070-433a-adb3-808269172097",
   "metadata": {},
   "outputs": [],
   "source": [
    "from sea_clearly.write_tools import to_netcdf\n",
    "to_netcdf('../data/riverine_input.nc',[input_matrix_rivers],['input_rivers'],lons,lats,explanation='riverine input in tonnes/year')"
   ]
  },
  {
   "cell_type": "code",
   "execution_count": null,
   "id": "53b423fb-2f8b-448b-80f3-76d775008298",
   "metadata": {},
   "outputs": [],
   "source": []
  }
 ],
 "metadata": {
  "kernelspec": {
   "display_name": "Python 3 (ipykernel)",
   "language": "python",
   "name": "python3"
  },
  "language_info": {
   "codemirror_mode": {
    "name": "ipython",
    "version": 3
   },
   "file_extension": ".py",
   "mimetype": "text/x-python",
   "name": "python",
   "nbconvert_exporter": "python",
   "pygments_lexer": "ipython3",
   "version": "3.8.11"
  }
 },
 "nbformat": 4,
 "nbformat_minor": 5
}
